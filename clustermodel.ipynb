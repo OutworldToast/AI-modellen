{
 "cells": [
  {
   "cell_type": "markdown",
   "metadata": {},
   "source": [
    "# Clustermodel"
   ]
  },
  {
   "cell_type": "markdown",
   "metadata": {},
   "source": [
    "Gebaseerd op het Great Outdoors Data Warehouse"
   ]
  },
  {
   "cell_type": "code",
   "execution_count": null,
   "metadata": {},
   "outputs": [],
   "source": [
    "import pandas as pd\n",
    "import numpy as np\n",
    "import matplotlib.pyplot as plt\n",
    "import sqlalchemy\n",
    "import pyodbc"
   ]
  },
  {
   "cell_type": "code",
   "execution_count": null,
   "metadata": {},
   "outputs": [],
   "source": [
    "#verbinding maken aan het database\n",
    "DB = {'servername': 'ENVY-AKRAM\\\\SQLEXPRESS','database': 'Great Outdoors - Akram en Sylvan'}\n",
    "conn_str = ('DRIVER={ODBC Driver 17 for SQL Server};SERVER=' + DB['servername'] + ';DATABASE=' + DB['database'] + ';Trusted_Connection=yes')\n",
    "export_conn = pyodbc.connect(conn_str, timeout=120)\n",
    "export_cursor = export_conn.cursor()\n",
    "\n",
    "engine = sqlalchemy.create_engine(f\"mssql+pyodbc:///?odbc_connect={conn_str}\")\n",
    "\n",
    "print(export_cursor.execute(\"SELECT @@version;\"))\n",
    "export_cursor"
   ]
  },
  {
   "cell_type": "markdown",
   "metadata": {},
   "source": [
    "# Dataset opzetten"
   ]
  },
  {
   "cell_type": "code",
   "execution_count": null,
   "metadata": {},
   "outputs": [],
   "source": [
    "#inlezen\n",
    "sales_staff = pd.read_sql_query(\"SELECT * FROM SALES_STAFF\", engine)\n",
    "sales_staff"
   ]
  },
  {
   "cell_type": "code",
   "execution_count": null,
   "metadata": {},
   "outputs": [],
   "source": [
    "#juiste variabelen pakken\n",
    "df = sales_staff.groupby('SALES_BRANCH_CODE').agg({\n",
    "    'SALES_STAFF_CODE': 'count',\n",
    "    'SALES_BRANCH_REGION': 'first',\n",
    "    'SALES_BRANCH_POSTAL_ZONE': 'first',\n",
    "    'COUNTRY_COUNTRY': 'first',\n",
    "    'COUNTRY_CURRENCY_NAME': 'first'\n",
    "    }).reset_index()\n",
    "df"
   ]
  },
  {
   "cell_type": "code",
   "execution_count": null,
   "metadata": {},
   "outputs": [],
   "source": [
    "#dummies maken\n",
    "df_dummies = pd.get_dummies(df, columns=['COUNTRY_COUNTRY', 'COUNTRY_CURRENCY_NAME', 'SALES_BRANCH_REGION', 'SALES_BRANCH_POSTAL_ZONE'])\n",
    "df_dummies"
   ]
  },
  {
   "cell_type": "code",
   "execution_count": null,
   "metadata": {},
   "outputs": [],
   "source": [
    "#dummies concatenaten\n",
    "df = pd.concat([df, df_dummies], axis=1)\n",
    "df"
   ]
  },
  {
   "cell_type": "code",
   "execution_count": null,
   "metadata": {},
   "outputs": [],
   "source": [
    "#drop de oude kolommen\n",
    "df = df.drop(columns=['COUNTRY_COUNTRY', 'COUNTRY_CURRENCY_NAME', 'SALES_BRANCH_REGION', 'SALES_BRANCH_POSTAL_ZONE'])\n",
    "df"
   ]
  },
  {
   "cell_type": "markdown",
   "metadata": {},
   "source": [
    "# Model Trainen"
   ]
  },
  {
   "cell_type": "code",
   "execution_count": 1,
   "metadata": {},
   "outputs": [],
   "source": [
    "from sklearn.cluster import KMeans\n",
    "from sklearn.metrics import silhouette_score\n"
   ]
  },
  {
   "cell_type": "code",
   "execution_count": 2,
   "metadata": {},
   "outputs": [],
   "source": [
    "#traint model\n",
    "def createcluster(df, n_clusters):\n",
    "    kmeans = KMeans(n_clusters=n_clusters, random_state=42)\n",
    "    return kmeans.fit_predict(df)"
   ]
  },
  {
   "cell_type": "code",
   "execution_count": null,
   "metadata": {},
   "outputs": [],
   "source": [
    "#kiest de beste cluster\n",
    "def calculatemetrics(df, kmeans):\n",
    "    return silhouette_score(df, kmeans)\n",
    "\n",
    "def optimiseclusters(df, exit_condition):\n",
    "\n",
    "    #exit condition is the number of times the score stays the same before the function exits\n",
    "    if exit_condition < 1:\n",
    "        raise ValueError(\"exit_condition must be greater than 0\")\n",
    "    elif exit_condition > 20:\n",
    "        raise ValueError(\"exit_condition must be less than 20\")\n",
    "\n",
    "    n_clusters = 2\n",
    "    best_score = -1\n",
    "    best_kmeans = None #is this an issue?\n",
    "    successive_failures = 0\n",
    "\n",
    "    while successive_failures <= exit_condition:\n",
    "        kmeans = createcluster(df, n_clusters)\n",
    "        score = calculatemetrics(df, kmeans)\n",
    "        if score > best_score:\n",
    "            best_score = score\n",
    "            best_kmeans = kmeans\n",
    "            successive_failures = 0\n",
    "        else:\n",
    "            successive_failures += 1\n",
    "        n_clusters += 1\n",
    "\n",
    "    return dict(n_clusters=n_clusters, score=best_score, kmeans=best_kmeans)"
   ]
  },
  {
   "cell_type": "code",
   "execution_count": null,
   "metadata": {},
   "outputs": [],
   "source": [
    "#clusteren\n",
    "result = optimiseclusters(df, 5)\n",
    "result"
   ]
  }
 ],
 "metadata": {
  "kernelspec": {
   "display_name": ".venv",
   "language": "python",
   "name": "python3"
  },
  "language_info": {
   "codemirror_mode": {
    "name": "ipython",
    "version": 3
   },
   "file_extension": ".py",
   "mimetype": "text/x-python",
   "name": "python",
   "nbconvert_exporter": "python",
   "pygments_lexer": "ipython3",
   "version": "3.12.2"
  }
 },
 "nbformat": 4,
 "nbformat_minor": 2
}
