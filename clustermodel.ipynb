{
 "cells": [
  {
   "cell_type": "markdown",
   "metadata": {},
   "source": [
    "# Een clustermodel gebaseerd op het Great Outdoors Data Warehouse"
   ]
  },
  {
   "cell_type": "code",
   "execution_count": null,
   "metadata": {},
   "outputs": [],
   "source": [
    "import pandas as pd\n",
    "import numpy as np\n",
    "import matplotlib.pyplot as plt\n",
    "import sqlalchemy\n",
    "import pyodbc"
   ]
  },
  {
   "cell_type": "code",
   "execution_count": null,
   "metadata": {},
   "outputs": [],
   "source": [
    "#verbinding maken aan het database\n",
    "DB = {'servername': 'ENVY-AKRAM\\\\SQLEXPRESS','database': 'Great Outdoors - Akram en Sylvan'}\n",
    "conn_str = ('DRIVER={ODBC Driver 17 for SQL Server};SERVER=' + DB['servername'] + ';DATABASE=' + DB['database'] + ';Trusted_Connection=yes')\n",
    "export_conn = pyodbc.connect(conn_str, timeout=120)\n",
    "export_cursor = export_conn.cursor()\n",
    "\n",
    "engine = sqlalchemy.create_engine(f\"mssql+pyodbc:///?odbc_connect={conn_str}\")\n",
    "\n",
    "print(export_cursor.execute(\"SELECT @@version;\"))\n",
    "export_cursor"
   ]
  },
  {
   "cell_type": "markdown",
   "metadata": {},
   "source": [
    "Dataset opzetten"
   ]
  },
  {
   "cell_type": "code",
   "execution_count": null,
   "metadata": {},
   "outputs": [],
   "source": [
    "#inlezen\n",
    "sales_staff = pd.read_sql_query(\"SELECT * FROM SALES_STAFF\", engine)\n",
    "sales_staff"
   ]
  },
  {
   "cell_type": "code",
   "execution_count": null,
   "metadata": {},
   "outputs": [],
   "source": [
    "#juiste variabelen pakken\n",
    "df = sales_staff.groupby('SALES_BRANCH_CODE').agg({\n",
    "    'SALES_STAFF_CODE': 'count',\n",
    "    'SALES_BRANCH_REGION': 'first',\n",
    "    'SALES_BRANCH_POSTAL_ZONE': 'first',\n",
    "    'COUNTRY_COUNTRY': 'first',\n",
    "    'COUNTRY_CURRENCY_NAME': 'first'\n",
    "    }).reset_index()\n",
    "df"
   ]
  },
  {
   "cell_type": "code",
   "execution_count": null,
   "metadata": {},
   "outputs": [],
   "source": [
    "#dummies maken\n",
    "df_dummies = pd.get_dummies(df, columns=['COUNTRY_COUNTRY', 'COUNTRY_CURRENCY_NAME', 'SALES_BRANCH_REGION', 'SALES_BRANCH_POSTAL_ZONE'])\n",
    "df_dummies"
   ]
  },
  {
   "cell_type": "code",
   "execution_count": null,
   "metadata": {},
   "outputs": [],
   "source": [
    "#dummies concatenaten\n",
    "df = pd.concat([df, df_dummies], axis=1)\n",
    "df"
   ]
  },
  {
   "cell_type": "code",
   "execution_count": null,
   "metadata": {},
   "outputs": [],
   "source": [
    "#drop de oude kolommen\n",
    "df = df.drop(columns=['COUNTRY_COUNTRY', 'COUNTRY_CURRENCY_NAME', 'SALES_BRANCH_REGION', 'SALES_BRANCH_POSTAL_ZONE'])\n",
    "df"
   ]
  }
 ],
 "metadata": {
  "language_info": {
   "name": "python"
  }
 },
 "nbformat": 4,
 "nbformat_minor": 2
}
